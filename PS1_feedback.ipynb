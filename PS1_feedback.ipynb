{
 "cells": [
  {
   "cell_type": "markdown",
   "id": "a38aa876-edca-4cd1-b8ba-a0dafa74742c",
   "metadata": {},
   "source": [
    "### 这个单元格给助教，请忽略!\n",
    "\n",
    "### Score: 66\n",
    "\n",
    "### Comment:\n",
    "Q1.[4]未考虑等于的情况\n",
    "\n",
    "Q2.[10]Good job!\n",
    "\n",
    "Q3.[15+5]Good job!\n",
    "\n",
    "Q4.[5+16.5+5]Good job!\n",
    "\n",
    "Q5.[5.5+0+0]5.2和5.3似乎没写？\n",
    "\n",
    "NOTE: 下次作业请整理到一个文件中并标注题号，或者直接使用助教的模板\n",
    "\n",
    "请实现每个 function 内容，确保最终提交的notebook是可以运行的。\n",
    "\n",
    "每一题除了必须要报告的 输出/图表，可以添加解释（中文即可）。此外可以自定义其他 function / 变量，自由添加单元格，但请确保题目中给出的 function （如第一题的 Print_values）可以正常调用。"
   ]
  },
  {
   "cell_type": "code",
   "execution_count": 3,
   "id": "4d71ae0a-d6d3-408d-bb38-34a442c1e710",
   "metadata": {},
   "outputs": [
    {
     "name": "stdin",
     "output_type": "stream",
     "text": [
      "请为a赋值 1\n",
      "请为b赋值 1\n",
      "请为c赋值 2\n"
     ]
    },
    {
     "data": {
      "text/plain": [
       "'nothing happened'"
      ]
     },
     "execution_count": 3,
     "metadata": {},
     "output_type": "execute_result"
    }
   ],
   "source": [
    "# 1\n",
    "a = float(input(\"请为a赋值\"))\n",
    "b = float(input(\"请为b赋值\"))\n",
    "c = float(input(\"请为c赋值\"))\n",
    "#定义函数\n",
    "# NOTE: 未考虑a等于b，或a等于c，或b等于c的情况 -1\n",
    "# EXAMPLE: 当a=b=1, c=2时，按流程图为cba，而函数输出未nothing happened\n",
    "def Print_values(a,b,c):\n",
    "    if a>b>c:\n",
    "        x,y,z = a,b,c\n",
    "    elif a>c>b:\n",
    "        x,y,z = a,c,b\n",
    "    elif c>a>b:\n",
    "        x,y,z = c,a,b\n",
    "    elif c>b>a:\n",
    "        x,y,z = c,b,a\n",
    "    else:\n",
    "        return(\"nothing happened\")\n",
    "    \n",
    "    result = x + y - 10*z\n",
    "    print(result)\n",
    "    #stop\n",
    "\n",
    "#调用函数\n",
    "Print_values(a,b,c)\n"
   ]
  },
  {
   "cell_type": "code",
   "execution_count": 9,
   "id": "16f4bed0-2de9-4dbb-92fc-d3b672af14e3",
   "metadata": {},
   "outputs": [
    {
     "name": "stdin",
     "output_type": "stream",
     "text": [
      "请输入一串正整数，用空格分隔:  1 2 3 4 5 100\n"
     ]
    },
    {
     "name": "stdout",
     "output_type": "stream",
     "text": [
      "[1, 2, 3, 4, 5, 100]\n",
      "[1, 5, 7, 13, 15, 305]\n"
     ]
    }
   ],
   "source": [
    "# 2\n",
    "import math\n",
    "\n",
    "def F(x):\n",
    "    base_F = [0] * (x + 1)\n",
    "    base_F[1] = 1\n",
    "    \n",
    "    for i in range(2, x + 1):\n",
    "        ceil_div_3 = math.ceil(i / 3)\n",
    "        base_F[i] = base_F[ceil_div_3] + 2 * i\n",
    "    \n",
    "    return base_F[x]\n",
    "\n",
    "def F_values(lst0):\n",
    "    results = []\n",
    "    for x in lst0:\n",
    "        results.append(F(x))\n",
    "    return results\n",
    "\n",
    "#输入请求\n",
    "input_str = input(\"请输入一串正整数，用空格分隔: \")\n",
    "#将输入的字符串按空格分割，转换为整数数字类型，构成列表\n",
    "input_list = [int(num) for num in input_str.split()]\n",
    "print(input_list)\n",
    "output_values = F_values(input_list)\n",
    "print(output_values)\n"
   ]
  },
  {
   "cell_type": "code",
   "execution_count": 11,
   "id": "77faa082-fd0a-45cb-8cf6-1c6a305b1d32",
   "metadata": {},
   "outputs": [
    {
     "name": "stdin",
     "output_type": "stream",
     "text": [
      "请输入你想得到的总和： 35\n"
     ]
    },
    {
     "name": "stdout",
     "output_type": "stream",
     "text": [
      "x**60 + 10*x**59 + 55*x**58 + 220*x**57 + 715*x**56 + 2002*x**55 + 4995*x**54 + 11340*x**53 + 23760*x**52 + 46420*x**51 + 85228*x**50 + 147940*x**49 + 243925*x**48 + 383470*x**47 + 576565*x**46 + 831204*x**45 + 1151370*x**44 + 1535040*x**43 + 1972630*x**42 + 2446300*x**41 + 2930455*x**40 + 3393610*x**39 + 3801535*x**38 + 4121260*x**37 + 4325310*x**36 + 4395456*x**35 + 4325310*x**34 + 4121260*x**33 + 3801535*x**32 + 3393610*x**31 + 2930455*x**30 + 2446300*x**29 + 1972630*x**28 + 1535040*x**27 + 1151370*x**26 + 831204*x**25 + 576565*x**24 + 383470*x**23 + 243925*x**22 + 147940*x**21 + 85228*x**20 + 46420*x**19 + 23760*x**18 + 11340*x**17 + 4995*x**16 + 2002*x**15 + 715*x**14 + 220*x**13 + 55*x**12 + 10*x**11 + x**10\n",
      "得到总和 35 的方式数: 4395456\n",
      "和为 10 的组合数: 1\n",
      "和为 11 的组合数: 10\n",
      "和为 12 的组合数: 55\n",
      "和为 13 的组合数: 220\n",
      "和为 14 的组合数: 715\n",
      "和为 15 的组合数: 2002\n",
      "和为 16 的组合数: 4995\n",
      "和为 17 的组合数: 11340\n",
      "和为 18 的组合数: 23760\n",
      "和为 19 的组合数: 46420\n",
      "和为 20 的组合数: 85228\n",
      "和为 21 的组合数: 147940\n",
      "和为 22 的组合数: 243925\n",
      "和为 23 的组合数: 383470\n",
      "和为 24 的组合数: 576565\n",
      "和为 25 的组合数: 831204\n",
      "和为 26 的组合数: 1151370\n",
      "和为 27 的组合数: 1535040\n",
      "和为 28 的组合数: 1972630\n",
      "和为 29 的组合数: 2446300\n",
      "和为 30 的组合数: 2930455\n",
      "和为 31 的组合数: 3393610\n",
      "和为 32 的组合数: 3801535\n",
      "和为 33 的组合数: 4121260\n",
      "和为 34 的组合数: 4325310\n",
      "和为 35 的组合数: 4395456\n",
      "和为 36 的组合数: 4325310\n",
      "和为 37 的组合数: 4121260\n",
      "和为 38 的组合数: 3801535\n",
      "和为 39 的组合数: 3393610\n",
      "和为 40 的组合数: 2930455\n",
      "和为 41 的组合数: 2446300\n",
      "和为 42 的组合数: 1972630\n",
      "和为 43 的组合数: 1535040\n",
      "和为 44 的组合数: 1151370\n",
      "和为 45 的组合数: 831204\n",
      "和为 46 的组合数: 576565\n",
      "和为 47 的组合数: 383470\n",
      "和为 48 的组合数: 243925\n",
      "和为 49 的组合数: 147940\n",
      "和为 50 的组合数: 85228\n",
      "和为 51 的组合数: 46420\n",
      "和为 52 的组合数: 23760\n",
      "和为 53 的组合数: 11340\n",
      "和为 54 的组合数: 4995\n",
      "和为 55 的组合数: 2002\n",
      "和为 56 的组合数: 715\n",
      "和为 57 的组合数: 220\n",
      "和为 58 的组合数: 55\n",
      "和为 59 的组合数: 10\n",
      "和为 60 的组合数: 1\n",
      "最大组合数 4395456 对应的和为 35\n"
     ]
    }
   ],
   "source": [
    "# 3.1-3.2\n",
    "from sympy import symbols, expand\n",
    "\n",
    "# 定义符号\n",
    "x = symbols('x')\n",
    "\n",
    "def Find_number_of_ways(target_sum):\n",
    "    # 生成函数\n",
    "    G = x**1 + x**2 + x**3 + x**4 + x**5 + x**6  # 生成函数G(x)\n",
    "    total_G = G**10  # 计算10个骰子的生成函数\n",
    "    expanded_G = expand(total_G)  # 展开生成函数\n",
    "    print(expanded_G)\n",
    "    # 提取x^target_sum的系数\n",
    "    result = expanded_G.coeff(x, target_sum)  # 使用sympy的coeff方法提取\n",
    "    return result\n",
    "\n",
    "# 输入目标和\n",
    "target_sum = int(input(\"请输入你想得到的总和：\"))\n",
    "\n",
    "# 调用函数并输出结果\n",
    "ways = Find_number_of_ways(target_sum)\n",
    "print(f\"得到总和 {target_sum} 的方式数: {ways}\")\n",
    "\n",
    "# 提取和为 10 到 60 的系数\n",
    "coefficients = []\n",
    "for n in range(10, 61):  # n = 10 to 60\n",
    "    G = (x**1 + x**2 + x**3 + x**4 + x**5 + x**6)  # 生成函数G(x)\n",
    "    total_G = G**10  # 计算10个骰子的生成函数\n",
    "    expanded_G = expand(total_G)  # 展开生成函数\n",
    "    coeff = expanded_G.coeff(x**n)\n",
    "    coefficients.append((n, coeff))\n",
    "\n",
    "# 输出结果\n",
    "for n, coeff in coefficients:\n",
    "    print(f\"和为 {n} 的组合数: {coeff}\")\n",
    "\n",
    "# 找到最大组合数对应的和\n",
    "import numpy as np\n",
    "coefficients = np.array(coefficients)  # 确保 coefficients 是 NumPy 数组\n",
    "max_combination = coefficients[np.argmax(coefficients[:, 1])]\n",
    "#max_combination = max(coefficients, key=lambda item: item[1])\n",
    "print(f\"最大组合数 {max_combination[1]} 对应的和为 {max_combination[0]}\")\n",
    "\n",
    "\n"
   ]
  },
  {
   "cell_type": "code",
   "execution_count": 18,
   "id": "259ed7f0-d65a-4011-a5c8-a7bc604c683b",
   "metadata": {},
   "outputs": [
    {
     "name": "stdout",
     "output_type": "stream",
     "text": [
      "[ 5 10  6 10]\n"
     ]
    }
   ],
   "source": [
    "# 4.1\n",
    "import numpy as np\n",
    "import matplotlib.pyplot as plt\n",
    "from itertools import combinations\n",
    "\n",
    "# 生成随机整数的函数\n",
    "def Random_integer(N):\n",
    "    arr0 = np.random.randint(0, 11, N)  # 生成 0 到 10 之间的随机整数\n",
    "    return arr0  \n",
    "print(Random_integer(4))\n"
   ]
  },
  {
   "cell_type": "code",
   "execution_count": 22,
   "id": "98e1fe65-277a-404e-8fb4-7ed021515c03",
   "metadata": {},
   "outputs": [
    {
     "name": "stdin",
     "output_type": "stream",
     "text": [
      "请输入个数:  10\n"
     ]
    },
    {
     "name": "stdout",
     "output_type": "stream",
     "text": [
      "随机数组: [10  9  5  5 10  8  6  4  2 10]\n",
      "所有子集的平均值之和: 7058.700000000002\n"
     ]
    }
   ],
   "source": [
    "# 4.2\n",
    "# 计算所有子集平均值之和的函数\n",
    "def Sum_averages(arr0):\n",
    "    total_sum = 0\n",
    "\n",
    "    # 遍历所有可能的子集长度\n",
    "    for i in range(1, len(arr0) + 1):\n",
    "        for subset in combinations(arr0, i):  # 遍历数组中所有包含i个元素的子集\n",
    "            total_sum += np.mean(subset)  # 使用 NumPy 计算平均值\n",
    "\n",
    "    return total_sum\n",
    "    \n",
    "\n",
    "N = int(input(\"请输入个数: \"))\n",
    "arr0 = Random_integer(N)  # 生成随机整数数组\n",
    "print(\"随机数组:\", arr0)\n",
    "\n",
    "# 计算并输出所有子集的平均值之和\n",
    "total_sum_averages = Sum_averages(arr0)\n",
    "print(\"所有子集的平均值之和:\", total_sum_averages)\n"
   ]
  },
  {
   "cell_type": "code",
   "execution_count": 30,
   "id": "b65abffa-76ce-41ca-8ab9-e4e75339354f",
   "metadata": {},
   "outputs": [
    {
     "data": {
      "text/plain": [
       "<function matplotlib.pyplot.show(close=None, block=None)>"
      ]
     },
     "execution_count": 30,
     "metadata": {},
     "output_type": "execute_result"
    },
    {
     "data": {
      "image/png": "[encoded data removed]",
      "text/plain": [
       "<Figure size 640x480 with 1 Axes>"
      ]
     },
     "metadata": {},
     "output_type": "display_data"
    }
   ],
   "source": [
    "# 4.3\n",
    "# 作图\n",
    "N_values = range(1, 10)  # 设定 N 的范围为 1 到 100\n",
    "Total_sum_averages = []\n",
    "\n",
    "for n in N_values:\n",
    "    arr = Random_integer(n)\n",
    "    total_sum_averages = Sum_averages(arr)\n",
    "    Total_sum_averages.append(total_sum_averages)\n",
    "\n",
    "# 绘图\n",
    "plt.plot(N_values, Total_sum_averages)\n",
    "plt.xlabel(\"N\")\n",
    "plt.ylabel(\"Sum of Averages\")\n",
    "plt.title(\"Sum of Averages vs N\")\n",
    "plt.show"
   ]
  },
  {
   "cell_type": "code",
   "execution_count": 27,
   "id": "9facff97-ecd1-4368-81ba-ecfab9e0b395",
   "metadata": {},
   "outputs": [
    {
     "name": "stdin",
     "output_type": "stream",
     "text": [
      "请输入行数： 4\n",
      "请输入列数： 4\n"
     ]
    },
    {
     "name": "stdout",
     "output_type": "stream",
     "text": [
      "[[1 1 0 1]\n",
      " [1 1 0 0]\n",
      " [0 1 0 0]\n",
      " [0 0 0 1]]\n"
     ]
    }
   ],
   "source": [
    "# 5.1\n",
    "import numpy as np\n",
    "\n",
    "def create_matrix(N, M):\n",
    "    # 创建一个 N x M 的矩阵\n",
    "    matrix = np.random.randint(0, 2, size=(N, M))\n",
    "    # 左上角和右下角的单元格为 1\n",
    "    matrix[0, 0] = 1\n",
    "    matrix[N-1, M-1] = 1\n",
    "    return matrix\n",
    "\n",
    "# 示例\n",
    "N = int(input(\"请输入行数：\"))  # 行数\n",
    "M = int(input(\"请输入列数：\"))  # 列数\n",
    "result = create_matrix(N, M)\n",
    "print(result)"
   ]
  },
  {
   "cell_type": "code",
   "execution_count": null,
   "id": "27ac1e06-1a15-4b6e-901a-5e8832b23f2d",
   "metadata": {},
   "outputs": [],
   "source": []
  }
 ],
 "metadata": {
  "kernelspec": {
   "display_name": "Python 3 (ipykernel)",
   "language": "python",
   "name": "python3"
  },
  "language_info": {
   "codemirror_mode": {
    "name": "ipython",
    "version": 3
   },
   "file_extension": ".py",
   "mimetype": "text/x-python",
   "name": "python",
   "nbconvert_exporter": "python",
   "pygments_lexer": "ipython3",
   "version": "3.12.7"
  }
 },
 "nbformat": 4,
 "nbformat_minor": 5
}
