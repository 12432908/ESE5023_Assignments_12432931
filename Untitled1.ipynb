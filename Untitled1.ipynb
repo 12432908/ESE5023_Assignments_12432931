{
 "cells": [
  {
   "cell_type": "code",
   "execution_count": null,
   "id": "4f12d90c-4e0b-45eb-992f-528057af0959",
   "metadata": {},
   "outputs": [
    {
     "name": "stdin",
     "output_type": "stream",
     "text": [
      "请输入个数:  10\n"
     ]
    },
    {
     "name": "stdout",
     "output_type": "stream",
     "text": [
      "随机数组: [7 0 6 3 2 3 2 9 6 5]\n",
      "所有子集的平均值之和: 4398.900000000004\n"
     ]
    }
   ],
   "source": [
    "import numpy as np\n",
    "import matplotlib.pyplot as plt\n",
    "from itertools import combinations\n",
    "\n",
    "# 生成随机整数的函数\n",
    "def Random_integer(N):\n",
    "    arr0 = np.random.randint(0, 11, N)  # 生成 0 到 10 之间的随机整数\n",
    "    return arr0  \n",
    "\n",
    "# 计算所有子集平均值之和的函数\n",
    "def Sum_averages(arr0):\n",
    "    total_sum = 0\n",
    "\n",
    "    # 遍历所有可能的子集长度\n",
    "    for i in range(1, len(arr0) + 1):\n",
    "        for subset in combinations(arr0, i):  # 遍历数组中所有包含i个元素的子集\n",
    "            total_sum += np.mean(subset)  # 使用 NumPy 计算平均值\n",
    "\n",
    "    return total_sum\n",
    "\n",
    "\n",
    "N = int(input(\"请输入个数: \"))\n",
    "arr0 = Random_integer(N)  # 生成随机整数数组\n",
    "print(\"随机数组:\", arr0)\n",
    "\n",
    "# 计算并输出所有子集的平均值之和\n",
    "total_sum_averages = Sum_averages(arr0)\n",
    "print(\"所有子集的平均值之和:\", total_sum_averages)\n",
    "\n",
    "# 作图\n",
    "N_values = range(1, 101)  # 设定 N 的范围为 1 到 100\n",
    "Total_sum_averages = []\n",
    "\n",
    "for n in N_values:\n",
    "    arr = Random_integer(n)\n",
    "    total_sum_averages = Sum_averages(arr)\n",
    "    Total_sum_averages.append(total_sum_averages)\n",
    "\n",
    "# 绘图\n",
    "plt.plot(N_values, Total_sum_averages)\n",
    "plt.xlabel(\"N\")\n",
    "plt.ylabel(\"Sum of Averages\")\n",
    "plt.title(\"Sum of Averages vs N\")\n",
    "plt.show"
   ]
  },
  {
   "cell_type": "code",
   "execution_count": null,
   "id": "2e5e0c9e-1b47-4ec8-92fc-bdd04e6f8d29",
   "metadata": {},
   "outputs": [],
   "source": []
  }
 ],
 "metadata": {
  "kernelspec": {
   "display_name": "Python 3 (ipykernel)",
   "language": "python",
   "name": "python3"
  },
  "language_info": {
   "codemirror_mode": {
    "name": "ipython",
    "version": 3
   },
   "file_extension": ".py",
   "mimetype": "text/x-python",
   "name": "python",
   "nbconvert_exporter": "python",
   "pygments_lexer": "ipython3",
   "version": "3.12.4"
  }
 },
 "nbformat": 4,
 "nbformat_minor": 5
}
