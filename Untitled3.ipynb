{
 "cells": [
  {
   "cell_type": "code",
   "execution_count": 3,
   "id": "fc0e91cd-2011-4ea1-8845-2d92d861b585",
   "metadata": {},
   "outputs": [
    {
     "name": "stdin",
     "output_type": "stream",
     "text": [
      "请输入行数： 5\n",
      "请输入列数： 5\n"
     ]
    },
    {
     "name": "stdout",
     "output_type": "stream",
     "text": [
      "[[1 1 1 1 0]\n",
      " [1 0 0 1 0]\n",
      " [0 1 0 0 1]\n",
      " [1 0 1 0 0]\n",
      " [0 1 0 0 1]]\n"
     ]
    }
   ],
   "source": [
    "import numpy as np\n",
    "\n",
    "def create_matrix(N, M):\n",
    "    # 创建一个 N x M 的矩阵\n",
    "    matrix = np.random.randint(0, 2, size=(N, M))\n",
    "    # 左上角和右下角的单元格为 1\n",
    "    matrix[0, 0] = 1\n",
    "    matrix[N-1, M-1] = 1\n",
    "    return matrix\n",
    "\n",
    "# 示例\n",
    "N = int(input(\"请输入行数：\"))  # 行数\n",
    "M = int(input(\"请输入列数：\"))  # 列数\n",
    "result = create_matrix(N, M)\n",
    "print(result)"
   ]
  },
  {
   "cell_type": "code",
   "execution_count": null,
   "id": "5aefc140-acf4-4cfc-83cf-a557a45b5f27",
   "metadata": {},
   "outputs": [],
   "source": []
  }
 ],
 "metadata": {
  "kernelspec": {
   "display_name": "Python 3 (ipykernel)",
   "language": "python",
   "name": "python3"
  },
  "language_info": {
   "codemirror_mode": {
    "name": "ipython",
    "version": 3
   },
   "file_extension": ".py",
   "mimetype": "text/x-python",
   "name": "python",
   "nbconvert_exporter": "python",
   "pygments_lexer": "ipython3",
   "version": "3.12.4"
  }
 },
 "nbformat": 4,
 "nbformat_minor": 5
}
