{
 "cells": [
  {
   "cell_type": "code",
   "execution_count": 11,
   "id": "0fc45f6d-1347-4b5b-bbf9-ba375feda080",
   "metadata": {
    "scrolled": true
   },
   "outputs": [
    {
     "name": "stdin",
     "output_type": "stream",
     "text": [
      "请为a赋值 10\n",
      "请为b赋值 5\n",
      "请为c赋值 1\n"
     ]
    },
    {
     "name": "stdout",
     "output_type": "stream",
     "text": [
      "5.0\n"
     ]
    }
   ],
   "source": [
    "a = float(input(\"请为a赋值\"))\n",
    "b = float(input(\"请为b赋值\"))\n",
    "c = float(input(\"请为c赋值\"))\n",
    "#定义函数\n",
    "def Print_values(a,b,c):\n",
    "    if a>b>c:\n",
    "        x,y,z = a,b,c\n",
    "    elif a>c>b:\n",
    "        x,y,z = a,c,b\n",
    "    elif c>a>b:\n",
    "        x,y,z = c,a,b\n",
    "    elif c>b>a:\n",
    "        x,y,z = c,b,a\n",
    "    else:\n",
    "        return(\"nothing happened\")\n",
    "    \n",
    "    result = x + y - 10*z\n",
    "    print(result)\n",
    "    #stop\n",
    "\n",
    "#调用函数\n",
    "Print_values(a,b,c)\n"
   ]
  },
  {
   "cell_type": "code",
   "execution_count": 107,
   "id": "b02f9ab1-520c-4b84-99df-5bfadb731a9c",
   "metadata": {},
   "outputs": [
    {
     "name": "stdin",
     "output_type": "stream",
     "text": [
      "请输入一串正整数，用空格分隔:  1 2 3 4 5\n"
     ]
    },
    {
     "name": "stdout",
     "output_type": "stream",
     "text": [
      "[1, 2, 3, 4, 5]\n",
      "[1, 5, 7, 13, 15]\n"
     ]
    }
   ],
   "source": [
    "import math\n",
    "\n",
    "def F(x):\n",
    "    base_F = [0] * (x + 1)\n",
    "    base_F[1] = 1\n",
    "    \n",
    "    for i in range(2, x + 1):\n",
    "        ceil_div_3 = math.ceil(i / 3)\n",
    "        base_F[i] = base_F[ceil_div_3] + 2 * i\n",
    "    \n",
    "    return base_F[x]\n",
    "\n",
    "def F_values(lst0):\n",
    "    results = []\n",
    "    for x in lst0:\n",
    "        results.append(F(x))\n",
    "    return results\n",
    "\n",
    "#输入请求\n",
    "input_str = input(\"请输入一串正整数，用空格分隔: \")\n",
    "#将输入的字符串按空格分割，转换为整数数字类型，构成列表\n",
    "input_list = [int(num) for num in input_str.split()]\n",
    "print(input_list)\n",
    "output_values = F_values(input_list)\n",
    "print(output_values)\n"
   ]
  },
  {
   "cell_type": "code",
   "execution_count": 61,
   "id": "92bf627e-b493-4fa4-999d-43b7b0bad0cd",
   "metadata": {},
   "outputs": [
    {
     "name": "stdin",
     "output_type": "stream",
     "text": [
      "请输入你想得到的总和： 11\n"
     ]
    },
    {
     "name": "stdout",
     "output_type": "stream",
     "text": [
      "x**60 + 10*x**59 + 55*x**58 + 220*x**57 + 715*x**56 + 2002*x**55 + 4995*x**54 + 11340*x**53 + 23760*x**52 + 46420*x**51 + 85228*x**50 + 147940*x**49 + 243925*x**48 + 383470*x**47 + 576565*x**46 + 831204*x**45 + 1151370*x**44 + 1535040*x**43 + 1972630*x**42 + 2446300*x**41 + 2930455*x**40 + 3393610*x**39 + 3801535*x**38 + 4121260*x**37 + 4325310*x**36 + 4395456*x**35 + 4325310*x**34 + 4121260*x**33 + 3801535*x**32 + 3393610*x**31 + 2930455*x**30 + 2446300*x**29 + 1972630*x**28 + 1535040*x**27 + 1151370*x**26 + 831204*x**25 + 576565*x**24 + 383470*x**23 + 243925*x**22 + 147940*x**21 + 85228*x**20 + 46420*x**19 + 23760*x**18 + 11340*x**17 + 4995*x**16 + 2002*x**15 + 715*x**14 + 220*x**13 + 55*x**12 + 10*x**11 + x**10\n",
      "得到总和 11 的方式数: 10\n",
      "和为 10 的组合数: 1\n",
      "和为 11 的组合数: 10\n",
      "和为 12 的组合数: 55\n",
      "和为 13 的组合数: 220\n",
      "和为 14 的组合数: 715\n",
      "和为 15 的组合数: 2002\n",
      "和为 16 的组合数: 4995\n",
      "和为 17 的组合数: 11340\n",
      "和为 18 的组合数: 23760\n",
      "和为 19 的组合数: 46420\n",
      "和为 20 的组合数: 85228\n",
      "和为 21 的组合数: 147940\n",
      "和为 22 的组合数: 243925\n",
      "和为 23 的组合数: 383470\n",
      "和为 24 的组合数: 576565\n",
      "和为 25 的组合数: 831204\n",
      "和为 26 的组合数: 1151370\n",
      "和为 27 的组合数: 1535040\n",
      "和为 28 的组合数: 1972630\n",
      "和为 29 的组合数: 2446300\n",
      "和为 30 的组合数: 2930455\n",
      "和为 31 的组合数: 3393610\n",
      "和为 32 的组合数: 3801535\n",
      "和为 33 的组合数: 4121260\n",
      "和为 34 的组合数: 4325310\n",
      "和为 35 的组合数: 4395456\n",
      "和为 36 的组合数: 4325310\n",
      "和为 37 的组合数: 4121260\n",
      "和为 38 的组合数: 3801535\n",
      "和为 39 的组合数: 3393610\n",
      "和为 40 的组合数: 2930455\n",
      "和为 41 的组合数: 2446300\n",
      "和为 42 的组合数: 1972630\n",
      "和为 43 的组合数: 1535040\n",
      "和为 44 的组合数: 1151370\n",
      "和为 45 的组合数: 831204\n",
      "和为 46 的组合数: 576565\n",
      "和为 47 的组合数: 383470\n",
      "和为 48 的组合数: 243925\n",
      "和为 49 的组合数: 147940\n",
      "和为 50 的组合数: 85228\n",
      "和为 51 的组合数: 46420\n",
      "和为 52 的组合数: 23760\n",
      "和为 53 的组合数: 11340\n",
      "和为 54 的组合数: 4995\n",
      "和为 55 的组合数: 2002\n",
      "和为 56 的组合数: 715\n",
      "和为 57 的组合数: 220\n",
      "和为 58 的组合数: 55\n",
      "和为 59 的组合数: 10\n",
      "和为 60 的组合数: 1\n",
      "最大组合数 4395456 对应的和为 35\n"
     ]
    }
   ],
   "source": [
    "from sympy import symbols, expand\n",
    "\n",
    "# 定义符号\n",
    "x = symbols('x')\n",
    "\n",
    "def Find_number_of_ways(target_sum):\n",
    "    # 生成函数\n",
    "    G = x**1 + x**2 + x**3 + x**4 + x**5 + x**6  # 生成函数G(x)\n",
    "    total_G = G**10  # 计算10个骰子的生成函数\n",
    "    expanded_G = expand(total_G)  # 展开生成函数\n",
    "    print(expanded_G)\n",
    "    # 提取x^target_sum的系数\n",
    "    result = expanded_G.coeff(x, target_sum)  # 使用sympy的coeff方法提取\n",
    "    return result\n",
    "\n",
    "# 输入目标和\n",
    "target_sum = int(input(\"请输入你想得到的总和：\"))\n",
    "\n",
    "# 调用函数并输出结果\n",
    "ways = Find_number_of_ways(target_sum)\n",
    "print(f\"得到总和 {target_sum} 的方式数: {ways}\")\n",
    "\n",
    "# 提取和为 10 到 60 的系数\n",
    "coefficients = []\n",
    "for n in range(10, 61):  # n = 10 to 60\n",
    "    G = (x**1 + x**2 + x**3 + x**4 + x**5 + x**6)  # 生成函数G(x)\n",
    "    total_G = G**10  # 计算10个骰子的生成函数\n",
    "    expanded_G = expand(total_G)  # 展开生成函数\n",
    "    coeff = expanded_G.coeff(x**n)\n",
    "    coefficients.append((n, coeff))\n",
    "\n",
    "# 输出结果\n",
    "for n, coeff in coefficients:\n",
    "    print(f\"和为 {n} 的组合数: {coeff}\")\n",
    "\n",
    "# 找到最大组合数对应的和\n",
    "import numpy as np\n",
    "coefficients = np.array(coefficients)  # 确保 coefficients 是 NumPy 数组\n",
    "max_combination = coefficients[np.argmax(coefficients[:, 1])]\n",
    "#max_combination = max(coefficients, key=lambda item: item[1])\n",
    "print(f\"最大组合数 {max_combination[1]} 对应的和为 {max_combination[0]}\")\n",
    "\n",
    "\n"
   ]
  }
 ],
 "metadata": {
  "kernelspec": {
   "display_name": "Python 3 (ipykernel)",
   "language": "python",
   "name": "python3"
  },
  "language_info": {
   "codemirror_mode": {
    "name": "ipython",
    "version": 3
   },
   "file_extension": ".py",
   "mimetype": "text/x-python",
   "name": "python",
   "nbconvert_exporter": "python",
   "pygments_lexer": "ipython3",
   "version": "3.12.4"
  }
 },
 "nbformat": 4,
 "nbformat_minor": 5
}
